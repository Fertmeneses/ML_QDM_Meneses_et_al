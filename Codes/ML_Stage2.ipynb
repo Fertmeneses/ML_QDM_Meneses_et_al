{
 "cells": [
  {
   "cell_type": "markdown",
   "id": "f111fbfc",
   "metadata": {},
   "source": [
    "# Stage 2 AI training: time window points\n",
    "\n",
    "This stage focuses on selecting the **optimal time window's length**. Different architectures and rotational frames will be used for every time window option."
   ]
  },
  {
   "cell_type": "code",
   "execution_count": null,
   "id": "ec48549c-50f1-49de-bce5-ef5faba8d0e8",
   "metadata": {},
   "outputs": [],
   "source": [
    "# Import packages:\n",
    "import MLQDM.MLmodel as ML_MLmodel\n",
    "import MLQDM.timewindows as ML_twdw\n",
    "import tensorflow as tf\n",
    "\n",
    "# Check available GPU:\n",
    "print(\"Num GPUs Available: \", len(tf.config.list_physical_devices('GPU')))"
   ]
  },
  {
   "cell_type": "markdown",
   "id": "e7a242ce-1bd4-4570-b218-e61e91830aa8",
   "metadata": {},
   "source": [
    "## Load original data and general parameters\n",
    "Load data from files (many segments) and store information in dataframes, one for each segment. The original data is in the **Laboratory rotational frame (RF1)**.\n",
    "\n",
    "There are two possible sets of target labels, coming for the 'linear approximation' of 'physical model' approaches regarding the interpolated positions. You must choose one as {interp} for the training stage:\n",
    "* **'lin_approx'** : linear approximation.\n",
    "* **'phys_model'** : physical model based on acceleration profile."
   ]
  },
  {
   "cell_type": "code",
   "execution_count": null,
   "id": "a630902b-6467-4e29-93d6-d59be2838265",
   "metadata": {},
   "outputs": [],
   "source": [
    "# Choose Z-position interpolation method:\n",
    "interp = 'lin_approx' # 'phys_model' or 'lin_approx'\n",
    "\n",
    "# Prepare files information:\n",
    "data_path =  'Data/Final_t_BxByBz_zAut_LabFrame/' # Datafiles path\n",
    "gen_pars_path = 'ML_parameters/'\n",
    "\n",
    "# Load data, general hyperparameters and rotational frames:\n",
    "data, hypers, RFs = ML_MLmodel.load_data_and_gen_pars(\n",
    "    data_path,gen_pars_path,interp=interp,final_stage=False)"
   ]
  },
  {
   "cell_type": "markdown",
   "id": "b751e1e3-9a49-4ab6-9949-cd420d0b88d1",
   "metadata": {},
   "source": [
    "## Generate time windows\n",
    "\n",
    "### Load original data\n",
    "\n",
    "Each data segment is processed into time windows, which must have a fixed time length (or equivalently, fixed number of points) by default. However, as the original data is stored in the Time_Wdw object, it can be reshaped later.\n",
    "\n",
    "The distribution of training and testing datasets is chosen here. The validation dataset is included within the training dataset."
   ]
  },
  {
   "cell_type": "code",
   "execution_count": null,
   "id": "a488211f-6d7b-49e7-b89a-c6233b0d8d15",
   "metadata": {},
   "outputs": [],
   "source": [
    "# Prepare time windows:\n",
    "wdw_pp = 20\n",
    "train_segm = [0,2,4] if interp == 'phys_model' else [2,3,4]\n",
    "t_wdws_train, t_wdws_test = ML_twdw.prepare_time_windows(\n",
    "    data,wdw_pp,train_segm=train_segm,\n",
    "    plot_instances=True,instances=10,start_wdw=1025,stride_pp=30)"
   ]
  },
  {
   "cell_type": "markdown",
   "id": "6692adc2-e383-4087-b4e8-0154c80459d3",
   "metadata": {},
   "source": [
    "### Time Windows\n",
    "\n",
    "From Stage 1 analysis, we've determined that only the full vector data, meaning all three $(Bx,By,Bz)$ magnetic components, is robust against rotations and has about 90% accuracy for position predictions using a 1-meter threshold.\n",
    "\n",
    "In this Stage 2, we optimize the **[number of points for the Time Windows]**. Each input option will be combined with three different architectures:\n",
    "\n",
    "1. A single Convolutional Neural Network (CNN) with 32 filters and kernel size 5 + Flattening layer + Two consecutive Dense Neural Network (DNN) with 512 neurons each.\n",
    "2. Two consecutive CNN with 32 filters each and kernel sizes 8 and 4, respectively, + Flattening layer + Two consecutive DNN with 512 neurons each.\n",
    "3. Three consecutive DNN with 1024, 512, 512 neurons, respectively.\n",
    "\n",
    "In all cases, the last output layer is a DNN with a single neuron and linear activation, which predicts a single value for the elevator Z-position, units [m], representing the position at the end of the time window.\n",
    "\n",
    "The general hyperparameters for all ML models are defined according to the 'ML_gen_pars_S1to6.json' file. In addition, the following hyperparameters are also common to all ML models:\n",
    "\n",
    "* \"Magnetic_Components\": ['Bx','By','Bz'].\n",
    "* \"Dropout_Fraction\": 0.\n",
    "* \"Activation_Function\": 'relu'.\n",
    "* \"Optimizer\": 'adam'.\n",
    "* \"Learning_Rate\": 0.005.\n",
    "\n",
    "In this stage, the standard rotational frames (RF1,RF2,RF3), described in the 'ML_RF_S1to6.json' file, are used to train and evaluate each ML model."
   ]
  },
  {
   "cell_type": "code",
   "execution_count": null,
   "id": "98514330-221a-4dac-9e9d-d390870af7c1",
   "metadata": {},
   "outputs": [],
   "source": [
    "# Define additional hyperparameters:\n",
    "extra_hypers = {\n",
    "    \"Magnetic_Components\": ['Bx','By','Bz'],\n",
    "    \"Dropout_Fraction\": 0,\n",
    "    \"Activation_Function\": 'relu',\n",
    "    \"Optimizer\": 'adam',\n",
    "    \"Learning_Rate\": 0.005\n",
    "}\n",
    "\n",
    "# Define the architecture options:\n",
    "arch1 = {\n",
    "    \"Convolutional_Network\": True,\n",
    "    \"Conv_Layers\": [[32,5]],\n",
    "    \"Pool_Layers\": [None],\n",
    "    \"Flatten_Average\": True,\n",
    "    \"Dens_Layers\": [512,512],\n",
    "    \"Model_Name\": \"S2_C5_\"\n",
    "}\n",
    "arch2 = {\n",
    "    \"Convolutional_Network\": True,\n",
    "    \"Conv_Layers\": [[32,8],[32,4]],\n",
    "    \"Pool_Layers\": [None,None],\n",
    "    \"Flatten_Average\": True,\n",
    "    \"Dens_Layers\": [512,512],\n",
    "    \"Model_Name\": \"S2_C8_C4_\"\n",
    "}\n",
    "arch3 = {\n",
    "    \"Convolutional_Network\": False,\n",
    "    \"Dens_Layers\": [1024,512,512],\n",
    "    \"Model_Name\": \"S2_D1024D512D512\"\n",
    "}\n",
    "\n",
    "# Combine all hyperparameters information and architecture options:\n",
    "arch_opts = [dict(list(hypers.items())+list(extra_hypers.items())+list(arch.items()))\\\n",
    "             for arch in [arch1,arch2,arch3]]\n",
    "\n",
    "# Prepare rotational frame options:\n",
    "RF_opts = list(RFs.values())"
   ]
  },
  {
   "cell_type": "code",
   "execution_count": null,
   "id": "34244ba3-21cb-4489-ab30-a43d711aefd5",
   "metadata": {},
   "outputs": [],
   "source": [
    "# Options for number of points in time windows:\n",
    "import numpy as np\n",
    "pp_opts = np.concatenate([\n",
    "    np.arange(1,10,1),np.arange(10,20,2),np.arange(20,60,4),np.arange(60,124+1,8)\n",
    "    ],axis=0)"
   ]
  },
  {
   "cell_type": "code",
   "execution_count": null,
   "id": "891576e5-b827-42b8-a39f-5fee5a8fd345",
   "metadata": {},
   "outputs": [],
   "source": [
    "# Prepare file path to export results:\n",
    "results_path = f'Results_{interp}/Train_s1s4s5_Test_s2s3/'\n",
    "# Prepare file path to check on already trained models and avoid repetitions:\n",
    "check_rep_model = f'Results_{interp}/Train_s1s4s5_Test_s2s3/Stage2_{interp}_all_Train_s1s4s5_Test_s2s3.csv'\n",
    "\n",
    "# Train all models:\n",
    "df_results = ML_MLmodel.train_stage2(\n",
    "    pp_opts,arch_opts,RF_opts,t_wdws_train,t_wdws_test,\n",
    "    results_path=results_path,interpolation=interp,\n",
    "    check_rep_model=check_rep_model,\n",
    "    quick_timing_test=False\n",
    ")"
   ]
  },
  {
   "cell_type": "code",
   "execution_count": null,
   "id": "1ba9b184-1a2a-4855-92ff-201fad2c7c7c",
   "metadata": {},
   "outputs": [],
   "source": []
  }
 ],
 "metadata": {
  "kernelspec": {
   "display_name": "Python 3 (ipykernel)",
   "language": "python",
   "name": "python3"
  },
  "language_info": {
   "codemirror_mode": {
    "name": "ipython",
    "version": 3
   },
   "file_extension": ".py",
   "mimetype": "text/x-python",
   "name": "python",
   "nbconvert_exporter": "python",
   "pygments_lexer": "ipython3",
   "version": "3.12.7"
  }
 },
 "nbformat": 4,
 "nbformat_minor": 5
}
