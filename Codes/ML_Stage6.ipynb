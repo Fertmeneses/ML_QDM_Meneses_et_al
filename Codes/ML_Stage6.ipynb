{
 "cells": [
  {
   "cell_type": "markdown",
   "id": "f111fbfc",
   "metadata": {},
   "source": [
    "# Stage 6 AI training: Data augmentation\n",
    "\n",
    "See \"Main_AI_training_Stage1.ipynb\" for introduction and details about the original and rotated frames, inputs and outputs and machine learning training.\n",
    "\n",
    "This stage focuses on Data augmentation and how the size of the training dataset impacts on the model's accuracy."
   ]
  },
  {
   "cell_type": "code",
   "execution_count": null,
   "id": "2b284a30",
   "metadata": {},
   "outputs": [],
   "source": [
    "# Import all auxiliar functions:\n",
    "%run Auxiliar_functions.ipynb\n",
    "# Define magnetometer and datafiles path:\n",
    "data_path =  './Data/Final_t_BxByBz_zAut_LabFrame/' # Datafiles path\n",
    "print(\"Num GPUs Available: \", len(tf.config.list_physical_devices('GPU')))"
   ]
  },
  {
   "cell_type": "markdown",
   "id": "5217d20e",
   "metadata": {},
   "source": [
    "## Load original data and define rotational frames\n",
    "Load data from files (many segments) and store information in dataframes, one for each segment. The original data is in the **Laboratory rotational frame (RF1)**. Other rotational frames will be defined in a dictionary, expliciting the rotation axis and angle. They are named arbitrarily, their name is the dictionary's key, and their rotational axis, angle (in degree units) and name are specified as the first, second and third elements of a list, respectively."
   ]
  },
  {
   "cell_type": "code",
   "execution_count": null,
   "id": "619836e9",
   "metadata": {},
   "outputs": [],
   "source": [
    "# Load data:\n",
    "files = [data_path+file for file in os.listdir(data_path)]\n",
    "df_all = [pd.read_csv(file) for file in files]\n",
    "# Define rotational frames in a dictionary, with the name as key, rotational axis, angle [degree] and name as values:\n",
    "RFs = {\n",
    "    'RF1': [None,None,'RF1'], # Original RF\n",
    "    'RF2': [np.array([0.41,0.75,0.52]),90,'RF2'], # Hardest RF\n",
    "    'RF3': [np.array([0.47,0.79,0.39]),120,'RF3'], # Intermediate RF\n",
    "}"
   ]
  },
  {
   "cell_type": "markdown",
   "id": "2129ad88-fade-4ef7-a4ff-9406cbef19f6",
   "metadata": {},
   "source": [
    "## Generate time windows\n",
    "\n",
    "### Load original data\n",
    "\n",
    "Each data segment is processed as time windows with a fixed time length. Each processed segment is stored as a \\<Time_Wdw\\> object, which has all the relevant information for magnetic analysis and position-labeling, as well as useful functions that allow to make arbitrary frame rotations."
   ]
  },
  {
   "cell_type": "code",
   "execution_count": null,
   "id": "92844d83-1669-489c-8791-6b3f97c67a40",
   "metadata": {},
   "outputs": [],
   "source": [
    "# Load time windows from different segments:\n",
    "wdw_pp = 40 # Number of points for time windows (dt=0.1s)\n",
    "t_wdws = [] # Initiate list for all segments\n",
    "norm_aux = 0 # Initiate auxiliar value for normalization.\n",
    "for i_segm in [0,1,2,3,4]:\n",
    "    t_wdws.append(Time_Wdw(wdw_pp, f'segm{i_segm+1}', \n",
    "                              gr_tr= 'zTrue_m' in df_all[i_segm].columns)) # Initiate object\n",
    "    t_wdws[-1].store_orig_data(df_all[i_segm]) # Store original data \n",
    "    #t_wdws[-1].window_data() # Window data without any augmentation\n",
    "    norm_aux = np.max([norm_aux,np.max(t_wdws[-1].B_RF1)])\n",
    "# Set normalizing value for future reference [nT]\n",
    "for t_wdw in t_wdws:\n",
    "    t_wdw.norm_value = norm_aux/np.sqrt(3) \n",
    "# Separate into training and testing datasets:\n",
    "t_wdws_train = [t_wdws[0],t_wdws[1],t_wdws[2]]\n",
    "t_wdws_test = [t_wdws[3],t_wdws[4]] # These ones have ground truth\n",
    "# Print summary:\n",
    "print('Time window points:',wdw_pp)\n",
    "print('\\n','-'*20,' Training ','-'*20,'\\n')\n",
    "summarize_TW_segments(t_wdws_train)\n",
    "print('\\n','-'*20,' Testing ','-'*20,'\\n')\n",
    "summarize_TW_segments(t_wdws_test)"
   ]
  },
  {
   "cell_type": "markdown",
   "id": "c11e7839-f2c6-47f4-9059-938fabadaa68",
   "metadata": {},
   "source": [
    "### Stage 6: Data augmentation\n",
    "\n",
    "This stage focuses on how the ML model's performance is affected by data augmentation. From previous Stages, I've chosen the following model and hyperparameters:\n",
    "\n",
    "* Convolutional layers: [64,16] + [32,4]\n",
    "* Pooling layers: None\n",
    "* 1D-Conversion layer: Flattening\n",
    "* Dense layers: [1024] + [512]\n",
    "* No dropout\n",
    "* Optimizer: adam.\n",
    "* Activation function: tanh.\n",
    "* Learning rate: 5e-4.\n",
    "\n",
    "**Tunable Hyper-parameters**:\n",
    "* Augmentation times = [1, 2, 3]\n",
    "* Noise options (Bx,By,Bz), in [nT] = [[3,3,3], [3,10,10], [10,10,10], [10,20,20], [20,20,20]]\n",
    "\n",
    "Again, different architectures and rotational frames will be used for every hyperparameters option.\n",
    "\n",
    "**Rotational Frames**:\n",
    "* RF1: Original laboratory frame (\"Easy\"). Here Bx has a very clear correlation with the elevator z-position.\n",
    "* RF2: \"Hard\", noise is roughly equally distributed among all magnetic components.\n",
    "* RF3: \"Intermediate\" situation."
   ]
  },
  {
   "cell_type": "code",
   "execution_count": null,
   "id": "9d9103d2-4197-4daf-b2b4-7cea3f498c7b",
   "metadata": {},
   "outputs": [],
   "source": [
    "%run Auxiliar_functions.ipynb\n",
    "savefigs_path = './Images/Training_models/Stage6/'\n",
    "results_path = './Results/'\n",
    "# General hyper-parameters and accuracy criteria:\n",
    "gen_hyp = {\n",
    "    \"Loss_Function\": \"mae\",\n",
    "    \"Last_Activation_Function\": 'linear',\n",
    "    \"Batch_Size\": 512,\n",
    "    \"Epochs\": 200, \n",
    "    \"Training_p_val\": 0.25,\n",
    "    \"Early_Stop_Monitor\": \"val_loss\",\n",
    "    \"Early_Stop_Min_Delta\": 0, # Improvement criteria for early stop, in [m]\n",
    "    \"Early_Stop_Patience\": 15,\n",
    "    \"Early_Stop_Start_From_Epoch\":30,\n",
    "    \"Early_Stop_Restore_Best_Weights\": True,    \n",
    "    \"z_thres\": 1, # in [m]\n",
    "    \"Magnetic_Components\": ['Bx','By','Bz'],\n",
    "    \"Time_Window_pp\": wdw_pp,\n",
    "    \"Convolutional_Network\": True,\n",
    "    \"Conv_Layers\": [[64,16],[32,4]],\n",
    "    \"Pool_Layers\": [None,None],\n",
    "    \"Flatten_Average\": True,\n",
    "    \"Dens_Layers\": [1024,512],\n",
    "    \"Dropout_Fraction\": 0,\n",
    "    \"Activation_Function\": 'tanh',\n",
    "    \"Optimizer\": 'adam',\n",
    "    \"Learning_Rate\": 5e-4,\n",
    "    \"Model_Name\": \"S6_C16C4_NP_Flat_D1024D512\",\n",
    "    \"RF\": [RFs[\"RF1\"],RFs[\"RF2\"],RFs[\"RF3\"]],\n",
    "}"
   ]
  },
  {
   "cell_type": "code",
   "execution_count": null,
   "id": "903a3868-e02e-4cf3-8996-11fec0f53273",
   "metadata": {},
   "outputs": [],
   "source": [
    "# Options for hyper-parameters:.\n",
    "p_train_opts = [0.15]#np.arange(0.1,1+1e-9,0.1)\n",
    "N_augm_opts = [0,1,2,3]\n",
    "noise_opts = [[20,20,20]] # Noise for Bx,By,Bz components [nT]\n",
    "\n",
    "# Options for rotational frames:\n",
    "RF_opts = [RFs['RF1'],RFs['RF2'],RFs['RF3']]\n",
    "\n",
    "# Options for random initialization seeds:\n",
    "seed_opts = [0] # Seeds for training instances\n",
    "\n",
    "# Train all models:\n",
    "check_rep_model = './Results/Train_s1s2s3_Test_s4s5/Stage6_all_Train_s1s2s3_Test_s4s5.csv'\n",
    "pd_results = train_stage6(gen_hyp,p_train_opts,N_augm_opts,noise_opts,\n",
    "                          seed_opts,RF_opts,t_wdws_train,t_wdws_test,\n",
    "                          results_path=results_path,\n",
    "                          check_rep_model=check_rep_model,\n",
    "                          quick_timing_test=False)"
   ]
  },
  {
   "cell_type": "code",
   "execution_count": null,
   "id": "c74e8e68-d464-4bdb-a04a-fa82343c5ec9",
   "metadata": {},
   "outputs": [],
   "source": []
  },
  {
   "cell_type": "code",
   "execution_count": null,
   "id": "15c53535-5855-4bdd-9b37-5cd8edb98dd2",
   "metadata": {},
   "outputs": [],
   "source": []
  },
  {
   "cell_type": "code",
   "execution_count": null,
   "id": "f5e1a36e-589e-4416-b04d-6c9cea6de52e",
   "metadata": {},
   "outputs": [],
   "source": []
  }
 ],
 "metadata": {
  "kernelspec": {
   "display_name": "py10",
   "language": "python",
   "name": "py10"
  },
  "language_info": {
   "codemirror_mode": {
    "name": "ipython",
    "version": 3
   },
   "file_extension": ".py",
   "mimetype": "text/x-python",
   "name": "python",
   "nbconvert_exporter": "python",
   "pygments_lexer": "ipython3",
   "version": "3.10.13"
  }
 },
 "nbformat": 4,
 "nbformat_minor": 5
}
