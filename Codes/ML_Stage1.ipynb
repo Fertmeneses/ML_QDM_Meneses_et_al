{
 "cells": [
  {
   "cell_type": "markdown",
   "id": "f111fbfc",
   "metadata": {},
   "source": [
    "# Stage 1 AI training: Input channels\n",
    "\n",
    "This stage focuses on the **magnetic components** used as input for the machine learning models. Different architectures and rotational frames will be used for every magnetic component option."
   ]
  },
  {
   "cell_type": "code",
   "execution_count": null,
   "id": "2b284a30",
   "metadata": {},
   "outputs": [],
   "source": [
    "# Import packages:\n",
    "import MLQDM.MLmodel as ML_MLmodel\n",
    "import MLQDM.timewindows as ML_twdw\n",
    "import tensorflow as tf\n",
    "\n",
    "# Check available GPU:\n",
    "print(\"Num GPUs Available: \", len(tf.config.list_physical_devices('GPU')))"
   ]
  },
  {
   "cell_type": "markdown",
   "id": "5217d20e",
   "metadata": {},
   "source": [
    "## Load original data and general parameters\n",
    "Load data from files (many segments) and store information in dataframes, one for each segment. The original data is in the **Laboratory rotational frame (RF1)**.\n",
    "\n",
    "There are two possible sets of target labels, coming for the 'linear approximation' of 'physical model' approaches regarding the interpolated positions. You must choose one as {interp} for the training stage:\n",
    "* **'lin_approx'** : linear approximation.\n",
    "* **'phys_model'** : physical model based on acceleration profile."
   ]
  },
  {
   "cell_type": "code",
   "execution_count": null,
   "id": "dc39b1ca-0ff6-46d5-8532-21b48604b327",
   "metadata": {},
   "outputs": [],
   "source": [
    "# Choose Z-position interpolation method:\n",
    "interp = 'lin_approx' # 'phys_model' or 'lin_approx'\n",
    "\n",
    "# Prepare files information:\n",
    "data_path =  'Data/Final_t_BxByBz_zAut_LabFrame/' # Datafiles path\n",
    "gen_pars_path = 'ML_parameters/'\n",
    "\n",
    "# Load data, general hyperparameters and rotational frames:\n",
    "data, hypers, RFs = ML_MLmodel.load_data_and_gen_pars(\n",
    "    data_path,gen_pars_path,interp=interp,final_stage=False)"
   ]
  },
  {
   "cell_type": "markdown",
   "id": "2129ad88-fade-4ef7-a4ff-9406cbef19f6",
   "metadata": {},
   "source": [
    "## Generate time windows\n",
    "\n",
    "### Load original data\n",
    "\n",
    "Each data segment is processed into time windows with a fixed time length (or equivalently, fixed number of points). The distribution of training and testing datasets is chosen here. The validation dataset is included within the training dataset."
   ]
  },
  {
   "cell_type": "code",
   "execution_count": null,
   "id": "0aa63090-343a-463c-8951-6e04a0de2eee",
   "metadata": {},
   "outputs": [],
   "source": [
    "# Prepare time windows:\n",
    "wdw_pp = 20\n",
    "train_segm = [0,2,4] if interp == 'phys_model' else [2,3,4]\n",
    "t_wdws_train, t_wdws_test = ML_twdw.prepare_time_windows(\n",
    "    data,wdw_pp,train_segm=train_segm,\n",
    "    plot_instances=True,instances=10,start_wdw=1025,stride_pp=30)"
   ]
  },
  {
   "cell_type": "markdown",
   "id": "b986328d-3d25-410f-baf9-96635b304296",
   "metadata": {},
   "source": [
    "### Machine Learning training\n",
    "\n",
    "In this stage, each **[input magnetic components]** option will be combined with two architecture options:\n",
    "\n",
    "1. A single Convolutional Neural Network (CNN) with 32 filters and kernel size 5 + Flattening layer + Two consecutive Dense Neural Network (DNN) with 512 neurons each.\n",
    "2. Three consecutive DNN with 1024, 512, 512 neurons, respectively.\n",
    "\n",
    "In both cases, the last output layer is a DNN with a single neuron and linear activation, which predicts a single value for the elevator Z-position, units [m], representing the position at the end of the time window.\n",
    "\n",
    "The general hyperparameters for all ML models are defined according to the 'ML_gen_pars_S1to6.json' file. In addition, the following hyperparameters are also common to all ML models:\n",
    "\n",
    "* \"Time_Window_pp\": {wdw_pp},\n",
    "* \"Dropout_Fraction\": 0.\n",
    "* \"Activation_Function\": 'relu'.\n",
    "* \"Optimizer\": 'adam'.\n",
    "* \"Learning_Rate\": 0.005.\n",
    "\n",
    "In this stage, the standard rotational frames (RF1,RF2,RF3), described in the 'ML_RF_S1to6.json' file, are used to train and evaluate each ML model."
   ]
  },
  {
   "cell_type": "code",
   "execution_count": null,
   "id": "096108fc-8db0-4121-813f-60222c984945",
   "metadata": {},
   "outputs": [],
   "source": [
    "# Define additional hyperparameters:\n",
    "extra_hypers = {\n",
    "    \"Time_Window_pp\": wdw_pp,\n",
    "    \"Dropout_Fraction\": 0,\n",
    "    \"Activation_Function\": 'relu',\n",
    "    \"Optimizer\": 'adam',\n",
    "    \"Learning_Rate\": 0.005\n",
    "}\n",
    "\n",
    "# Define the two architecture options:\n",
    "arch1 = {\n",
    "    \"Convolutional_Network\": True,\n",
    "    \"Conv_Layers\": [[32,5]],\n",
    "    \"Pool_Layers\": [None],\n",
    "    \"Flatten_Average\": True,\n",
    "    \"Dens_Layers\": [512,512],\n",
    "    \"Model_Name\": \"S1_C5_D512_D512\"\n",
    "}\n",
    "arch2 = {\n",
    "    \"Convolutional_Network\": False,\n",
    "    \"Dens_Layers\": [1024,512,512],\n",
    "    \"Model_Name\": \"S1_D1024_D512_D512\"\n",
    "}\n",
    "\n",
    "# Combine all hyperparameters information and architecture options:\n",
    "arch_opts = [dict(list(hypers.items())+list(extra_hypers.items())+list(arch.items()))\\\n",
    "             for arch in [arch1,arch2]]\n",
    "\n",
    "# Prepare rotational frame options:\n",
    "RF_opts = list(RFs.values())"
   ]
  },
  {
   "cell_type": "markdown",
   "id": "d1195996-d658-4c10-aab0-53ff9936f63c",
   "metadata": {},
   "source": [
    "Define input magnetic component options:"
   ]
  },
  {
   "cell_type": "code",
   "execution_count": null,
   "id": "3fd3d4d0-ad22-4c76-83bb-b725bfae2056",
   "metadata": {},
   "outputs": [],
   "source": [
    "# Options for magnetic components:\n",
    "B_comps_opts = [\n",
    "    ['Bx'],['By'],['Bz'],['B'], # One component (scalar option included)\n",
    "    ['Bx','By'],['Bx','Bz'], ['By','Bz'], # Two components\n",
    "    ['Bx','By','Bz'] # Three components (full vector magnetometer)\n",
    "    ]"
   ]
  },
  {
   "cell_type": "markdown",
   "id": "6134428e-b6ab-4e6d-8c44-61e03466e8bc",
   "metadata": {},
   "source": [
    "Train and evaluate each architecture option in each available rotational frame for this stage and save the results in a .csv file (but not the models): "
   ]
  },
  {
   "cell_type": "code",
   "execution_count": null,
   "id": "63a84175-0744-47ed-9f3e-b69a7169a711",
   "metadata": {},
   "outputs": [],
   "source": [
    "# Prepare file path to export results:\n",
    "results_path = f'Results_{interp}/Train_s1s4s5_Test_s2s3/'\n",
    "# Prepare file path to check on already trained models and avoid repetitions:\n",
    "check_rep_model = f'Results_{interp}/Train_s1s4s5_Test_s2s3/Stage1_{interp}_all_Train_s1s4s5_Test_s2s3.csv'\n",
    "\n",
    "# Train all models:\n",
    "df_results = ML_MLmodel.train_stage1(\n",
    "    B_comps_opts,arch_opts,RF_opts,t_wdws_train,t_wdws_test,\n",
    "    results_path=results_path,check_rep_model=check_rep_model,\n",
    "    quick_timing_test=False\n",
    ")"
   ]
  },
  {
   "cell_type": "code",
   "execution_count": null,
   "id": "f604281a-07c1-4bd7-9c76-af94fc19fdb9",
   "metadata": {},
   "outputs": [],
   "source": []
  }
 ],
 "metadata": {
  "kernelspec": {
   "display_name": "py12",
   "language": "python",
   "name": "py12"
  },
  "language_info": {
   "codemirror_mode": {
    "name": "ipython",
    "version": 3
   },
   "file_extension": ".py",
   "mimetype": "text/x-python",
   "name": "python",
   "nbconvert_exporter": "python",
   "pygments_lexer": "ipython3",
   "version": "3.12.7"
  }
 },
 "nbformat": 4,
 "nbformat_minor": 5
}
