{
 "cells": [
  {
   "cell_type": "markdown",
   "id": "f111fbfc",
   "metadata": {},
   "source": [
    "# Stage 3 AI training: Main architecture\n",
    "\n",
    "This stage focuses on selecting the **optimal model's main architecture**. Different architectures and rotational frames will be used for every main architecture option."
   ]
  },
  {
   "cell_type": "code",
   "execution_count": null,
   "id": "b1d4d699-b2a4-4ffa-bd38-b6bf74470e8e",
   "metadata": {},
   "outputs": [],
   "source": [
    "# Import packages:\n",
    "import MLQDM.MLmodel as ML_MLmodel\n",
    "import MLQDM.timewindows as ML_twdw\n",
    "import tensorflow as tf\n",
    "\n",
    "# Check available GPU:\n",
    "print(\"Num GPUs Available: \", len(tf.config.list_physical_devices('GPU')))"
   ]
  },
  {
   "cell_type": "markdown",
   "id": "ca69c287-2c9c-4dff-8ada-3db87eafcc1e",
   "metadata": {},
   "source": [
    "## Load original data and general parameters\n",
    "Load data from files (many segments) and store information in dataframes, one for each segment. The original data is in the **Laboratory rotational frame (RF1)**.\n",
    "\n",
    "There are two possible sets of target labels, coming for the 'linear approximation' of 'physical model' approaches regarding the interpolated positions. You must choose one as {interp} for the training stage:\n",
    "* **'lin_approx'** : linear approximation.\n",
    "* **'phys_model'** : physical model based on acceleration profile."
   ]
  },
  {
   "cell_type": "code",
   "execution_count": null,
   "id": "959d3c0d-97d2-49ed-ab79-85ca06a6c1d2",
   "metadata": {},
   "outputs": [],
   "source": [
    "# Choose Z-position interpolation method:\n",
    "interp = 'lin_approx' # 'phys_model' or 'lin_approx'\n",
    "\n",
    "# Prepare files information:\n",
    "data_path =  'Data/Final_t_BxByBz_zAut_LabFrame/' # Datafiles path\n",
    "gen_pars_path = 'ML_parameters/'\n",
    "\n",
    "# Load data, general hyperparameters and rotational frames:\n",
    "data, hypers, RFs = ML_MLmodel.load_data_and_gen_pars(\n",
    "    data_path,gen_pars_path,interp=interp,final_stage=False)"
   ]
  },
  {
   "cell_type": "markdown",
   "id": "ddd745cf-2ffc-411d-bc24-62bb1cab58a1",
   "metadata": {},
   "source": [
    "## Generate time windows\n",
    "\n",
    "### Load original data\n",
    "\n",
    "Each data segment is processed into time windows, which must have a fixed time length (or equivalently, fixed number of points) by default. However, as the original data is stored in the Time_Wdw object, it can be reshaped later.\n",
    "\n",
    "The distribution of training and testing datasets is chosen here. The validation dataset is included within the training dataset."
   ]
  },
  {
   "cell_type": "code",
   "execution_count": null,
   "id": "8b51d93a-cfe7-4ab5-9990-a5e1fd858998",
   "metadata": {},
   "outputs": [],
   "source": [
    "# Prepare time windows:\n",
    "wdw_pp = 40\n",
    "train_segm = [0,2,4] if interp == 'phys_model' else [2,3,4]\n",
    "t_wdws_train, t_wdws_test = ML_twdw.prepare_time_windows(\n",
    "    data,wdw_pp,train_segm=train_segm,\n",
    "    plot_instances=True,instances=10,start_wdw=570,stride_pp=50)"
   ]
  },
  {
   "cell_type": "markdown",
   "id": "7ffa2820-753d-445d-8c77-29d61aa8532b",
   "metadata": {},
   "source": [
    "### Main architecture\n",
    "\n",
    "#### Previous stages\n",
    "\n",
    "From Stage 1 analysis, we've determined that only the full vector data, meaning all three $(Bx,By,Bz)$ magnetic components, is robust against rotations and has about 90% accuracy for position predictions using a 1-meter threshold.\n",
    "\n",
    "From Stage 2, we've determined that increasing the number of time window points is associated with better ML performance, up to a certain limit. Using 40 points (equal to 4s) is a good compromise between performance and complexity of the ML model. We also proved that for time windows longer than 2s (20 points), the ML model works much better if Convolutional Neural Networks (CNN) are combined with Dense Neural Networks (DNN). \n",
    "\n",
    "#### Current stage\n",
    "\n",
    "In this stage, we explore different options for the main architecture of the ML model, including the number of CNN and DNN, the CNN kernel sizes, and the DNN number of neurons.\n",
    "\n",
    "**Architectures**:\n",
    "The format for denoting neural networks is the following: CNN are described by [filters,kernel] layers; DNN are described by [neurons] layers.\n",
    "\n",
    "We propose different Convolutional and Dense block that will be combined. \n",
    "\n",
    "Convolutional blocks:\n",
    "\n",
    "* [32,5]\n",
    "* [32,8]+[32,4]\n",
    "* [32,16]+[32,4]\n",
    "\n",
    "Dense blocks:\n",
    "\n",
    "* [256]\n",
    "* [1024]\n",
    "* [256]+[128]\n",
    "* [1024]+[512]\n",
    "* [2048]+[512]+[128]\n",
    "\n",
    "Additionally, all CNN within the Convolutional block will have the same **pooling options**: either no pooling or pooling layer with size 2.\n",
    "\n",
    "On the other hand, the Convolutional and Dense block are interfaced by an intermediate **1D-conversion layer**, for which there will be two alternative options: Flattening or Global average. "
   ]
  },
  {
   "cell_type": "code",
   "execution_count": null,
   "id": "fc373935-dc80-4c39-9f65-8a41284a2a7e",
   "metadata": {},
   "outputs": [],
   "source": [
    "# Define additional hyperparameters:\n",
    "extra_hypers = {\n",
    "    \"Magnetic_Components\": ['Bx','By','Bz'],\n",
    "    \"Time_Window_pp\": wdw_pp,\n",
    "    \"Dropout_Fraction\": 0,\n",
    "    \"Activation_Function\": 'relu',\n",
    "    \"Optimizer\": 'adam',\n",
    "    \"Learning_Rate\": 0.005,\n",
    "    \"Convolutional_Network\": True\n",
    "}\n",
    "\n",
    "# Define options for blocks in main architecture:\n",
    "Conv_opts = [[[32,5]], [[32,8],[32,4]], [[32,16],[32,4]]] # Convolutional\n",
    "pool_opts = [None,2] # Pooling\n",
    "conversion1D_opts = ['Flatten','Glob'] # 1D-conversion\n",
    "Dense_opts = [[256],[1024],[256,128],[1024,512],[2048,512,128]] # Dense1\n",
    "\n",
    "# Combine all general hyperparameters:\n",
    "gen_hyps = hypers | extra_hypers\n",
    "\n",
    "# Prepare rotational frame options:\n",
    "RF_opts = list(RFs.values())"
   ]
  },
  {
   "cell_type": "code",
   "execution_count": null,
   "id": "f34b8b8d-bd28-4519-9168-fd7a56d16aad",
   "metadata": {},
   "outputs": [],
   "source": [
    "# Prepare file path to export results:\n",
    "results_path = f'Results_{interp}/Train_s1s4s5_Test_s2s3/'\n",
    "# Prepare file path to check on already trained models and avoid repetitions:\n",
    "check_rep_model = f'Results_{interp}/Train_s1s4s5_Test_s2s3/Stage3_{interp}_all_Train_s1s4s5_Test_s2s3.csv'\n",
    "\n",
    "# Train all models:\n",
    "df_results = ML_MLmodel.train_stage3(\n",
    "    Conv_opts,pool_opts,conversion1D_opts,Dense_opts,\n",
    "    gen_hyps,RF_opts,t_wdws_train,t_wdws_test,\n",
    "    results_path=results_path,interpolation=interp,\n",
    "    check_rep_model=check_rep_model,\n",
    "    quick_timing_test=False\n",
    ")"
   ]
  },
  {
   "cell_type": "code",
   "execution_count": null,
   "id": "7417a3d5-abbf-4c1c-a18f-120e1f68bde1",
   "metadata": {},
   "outputs": [],
   "source": []
  }
 ],
 "metadata": {
  "kernelspec": {
   "display_name": "Python 3 (ipykernel)",
   "language": "python",
   "name": "python3"
  },
  "language_info": {
   "codemirror_mode": {
    "name": "ipython",
    "version": 3
   },
   "file_extension": ".py",
   "mimetype": "text/x-python",
   "name": "python",
   "nbconvert_exporter": "python",
   "pygments_lexer": "ipython3",
   "version": "3.12.7"
  }
 },
 "nbformat": 4,
 "nbformat_minor": 5
}
