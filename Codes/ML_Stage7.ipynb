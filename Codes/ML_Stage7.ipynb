{
 "cells": [
  {
   "cell_type": "markdown",
   "id": "f111fbfc",
   "metadata": {},
   "source": [
    "# Stage 7 AI training: Evaluate many rotational frames\n",
    "\n",
    "This stage works with the **final model** and evaluates its **performance in many rotational frames**."
   ]
  },
  {
   "cell_type": "code",
   "execution_count": null,
   "id": "94a8ad9e-6642-4af7-9d2a-5814a6590701",
   "metadata": {},
   "outputs": [],
   "source": [
    "# Import packages:\n",
    "import MLQDM.MLmodel as ML_MLmodel\n",
    "import MLQDM.timewindows as ML_twdw\n",
    "import tensorflow as tf\n",
    "\n",
    "# Check available GPU:\n",
    "print(\"Num GPUs Available: \", len(tf.config.list_physical_devices('GPU')))"
   ]
  },
  {
   "cell_type": "markdown",
   "id": "dab7886e-4325-4680-b202-c5573c4a8c52",
   "metadata": {},
   "source": [
    "## Load original data and general parameters\n",
    "Load data from files (many segments) and store information in dataframes, one for each segment. The original data is in the **Laboratory rotational frame (RF1)**.\n",
    "\n",
    "There are two possible sets of target labels, coming for the 'linear approximation' of 'physical model' approaches regarding the interpolated positions. You must choose one as {interp} for the training stage:\n",
    "* **'lin_approx'** : linear approximation.\n",
    "* **'phys_model'** : physical model based on acceleration profile."
   ]
  },
  {
   "cell_type": "code",
   "execution_count": null,
   "id": "8e439c8f-3cec-4e50-8e46-3b5c8a21d2f3",
   "metadata": {},
   "outputs": [],
   "source": [
    "# Choose Z-position interpolation method:\n",
    "interp = 'phys_model' # 'phys_model' or 'lin_approx'\n",
    "\n",
    "# Prepare files information:\n",
    "data_path =  'Data/Final_t_BxByBz_zAut_LabFrame/' # Datafiles path\n",
    "gen_pars_path = 'ML_parameters/'\n",
    "\n",
    "# Load data, general hyperparameters and rotational frames:\n",
    "data, hypers, RFs = ML_MLmodel.load_data_and_gen_pars(\n",
    "    data_path,gen_pars_path,interp=interp,final_stage=True)"
   ]
  },
  {
   "cell_type": "markdown",
   "id": "7fbdd524-dfe0-4520-929e-ef0cfdae93bf",
   "metadata": {},
   "source": [
    "## Generate time windows\n",
    "\n",
    "### Load original data\n",
    "\n",
    "Each data segment is processed into time windows with a fixed time length (or equivalently, fixed number of points). The distribution of training and testing datasets is chosen here. The validation dataset is included within the training dataset."
   ]
  },
  {
   "cell_type": "code",
   "execution_count": null,
   "id": "72fd8d19-ea70-468b-9ee9-ffe97ca85258",
   "metadata": {},
   "outputs": [],
   "source": [
    "# Prepare time windows:\n",
    "wdw_pp = 40\n",
    "train_segm = [0,2,4] if interp == 'phys_model' else [1,2,4]\n",
    "t_wdws_train, t_wdws_test = ML_twdw.prepare_time_windows(\n",
    "    data,wdw_pp,train_segm=train_segm,instances=10,start_wdw=750,stride_pp=50)"
   ]
  },
  {
   "cell_type": "markdown",
   "id": "8b997b50-1980-4cd5-9e15-fc2e03ef73e6",
   "metadata": {},
   "source": [
    "## Prepare final ML model\n",
    "\n",
    "The **final ML model** will be evaluated in many rotational frames (64 instances randomly generated).\n",
    "\n",
    "From previous Stages, we've chosen the following model and hyperparameters:\n",
    "\n",
    "* Convolutional layers: [64,16] + [32,4]\n",
    "* Pooling layers: None\n",
    "* 1D-Conversion layer: Flattening\n",
    "* Dense layers: [1024] + [512]\n",
    "* No dropout\n",
    "* Optimizer: adam.\n",
    "* Activation function: tanh.\n",
    "* Learning rate: 5e-4.\n",
    "* No data augmentation."
   ]
  },
  {
   "cell_type": "code",
   "execution_count": null,
   "id": "133bffa5-e837-4986-abb3-83d73204f8a9",
   "metadata": {},
   "outputs": [],
   "source": [
    "# Define additional hyperparameters:\n",
    "extra_hypers = {\n",
    "    \"Time_Window_pp\": wdw_pp,\n",
    "    \"Magnetic_Components\": ['Bx','By','Bz'],\n",
    "    \"Convolutional_Network\": True,\n",
    "    \"Conv_Layers\": [[64,16],[32,4]],\n",
    "    \"Pool_Layers\": [None,None],\n",
    "    \"Flatten_Average\": True,\n",
    "    \"Dens_Layers\": [1024,512],\n",
    "    \"Dropout_Fraction\": 0,\n",
    "    \"Activation_Function\": 'tanh',\n",
    "    \"Optimizer\": 'adam',\n",
    "    \"Learning_Rate\": 5e-4,\n",
    "    \"Model_Name\": f\"S7_{interp}_C16C4_NP_Flat_D1024D512\",\n",
    "    \"p_train\": 1,\n",
    "    \"N_augm\": 0,\n",
    "    \"noise\": [0,0,0],\n",
    "}\n",
    "\n",
    "# Combine all information:\n",
    "full_hyps = hypers | extra_hypers\n",
    "\n",
    "# Prepare rotational frame options:\n",
    "RF_opts = list(RFs.values())\n",
    "\n",
    "# Print summary for the final ML model:\n",
    "final_ML_model = ML_MLmodel.ML_Model(full_hyps | {'Full_Name':'Final ML model example'})\n",
    "final_ML_model.info()"
   ]
  },
  {
   "cell_type": "code",
   "execution_count": null,
   "id": "bb9722ab-bdee-4a8a-83b4-fa1006da7288",
   "metadata": {},
   "outputs": [],
   "source": [
    "# Prepare file path to export results:\n",
    "results_path = f'Results_{interp}/Train_s1s4s5_Test_s2s3/'\n",
    "# Prepare file path to check on already trained models and avoid repetitions:\n",
    "check_rep_model = f'Results_{interp}/Train_s1s4s5_Test_s2s3/Stage7_{interp}_all_Train_s1s4s5_Test_s2s3.csv'\n",
    "\n",
    "# Train ML model:\n",
    "df_results = ML_MLmodel.train_stage7(\n",
    "    full_hyps,t_wdws_train,t_wdws_test,RF_opts,interpolation=interp,\n",
    "    results_path=results_path,check_rep_model=check_rep_model,\n",
    "    quick_timing_test=False\n",
    ")"
   ]
  },
  {
   "cell_type": "code",
   "execution_count": null,
   "id": "1f30c806-ea42-4d66-bb94-c86d0449b884",
   "metadata": {},
   "outputs": [],
   "source": []
  }
 ],
 "metadata": {
  "kernelspec": {
   "display_name": "Python 3 (ipykernel)",
   "language": "python",
   "name": "python3"
  },
  "language_info": {
   "codemirror_mode": {
    "name": "ipython",
    "version": 3
   },
   "file_extension": ".py",
   "mimetype": "text/x-python",
   "name": "python",
   "nbconvert_exporter": "python",
   "pygments_lexer": "ipython3",
   "version": "3.12.7"
  }
 },
 "nbformat": 4,
 "nbformat_minor": 5
}
