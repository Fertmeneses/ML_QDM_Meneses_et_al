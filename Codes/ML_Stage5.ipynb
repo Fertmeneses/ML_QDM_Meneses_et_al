{
 "cells": [
  {
   "cell_type": "markdown",
   "id": "f111fbfc",
   "metadata": {},
   "source": [
    "# Stage 5 AI training: Fine architecture\n",
    "\n",
    "See \"Main_AI_training_Stage1.ipynb\" for introduction and details about the original and rotated frames, inputs and outputs and machine learning training.\n",
    "\n",
    "This stage focuses on the fine ML architcture."
   ]
  },
  {
   "cell_type": "code",
   "execution_count": null,
   "id": "2b284a30",
   "metadata": {},
   "outputs": [],
   "source": [
    "# Import all auxiliar functions:\n",
    "%run Auxiliar_functions.ipynb\n",
    "# Define magnetometer and datafiles path:\n",
    "data_path =  './Data/Final_t_BxByBz_zAut_LabFrame/' # Datafiles path\n",
    "print(\"Num GPUs Available: \", len(tf.config.list_physical_devices('GPU')))"
   ]
  },
  {
   "cell_type": "markdown",
   "id": "5217d20e",
   "metadata": {},
   "source": [
    "## Load original data and define rotational frames\n",
    "Load data from files (many segments) and store information in dataframes, one for each segment. The original data is in the **Laboratory rotational frame (RF1)**. Other rotational frames will be defined in a dictionary, expliciting the rotation axis and angle. They are named arbitrarily, their name is the dictionary's key, and their rotational axis, angle (in degree units) and name are specified as the first, second and third elements of a list, respectively."
   ]
  },
  {
   "cell_type": "code",
   "execution_count": null,
   "id": "619836e9",
   "metadata": {},
   "outputs": [],
   "source": [
    "# Load data:\n",
    "files = [data_path+file for file in os.listdir(data_path)]\n",
    "df_all = [pd.read_csv(file) for file in files]\n",
    "# Define rotational frames in a dictionary, with the name as key, rotational axis, angle [degree] and name as values:\n",
    "RFs = {\n",
    "    'RF1': [None,None,'RF1'], # Original RF\n",
    "    'RF2': [np.array([0.41,0.75,0.52]),90,'RF2'], # Hardest RF\n",
    "    'RF3': [np.array([0.47,0.79,0.39]),120,'RF3'], # Intermediate RF\n",
    "}"
   ]
  },
  {
   "cell_type": "markdown",
   "id": "2129ad88-fade-4ef7-a4ff-9406cbef19f6",
   "metadata": {},
   "source": [
    "## Generate time windows\n",
    "\n",
    "### Load original data\n",
    "\n",
    "Each data segment is processed as time windows with a fixed time length. Each processed segment is stored as a \\<Time_Wdw\\> object, which has all the relevant information for magnetic analysis and position-labeling, as well as useful functions that allow to make arbitrary frame rotations."
   ]
  },
  {
   "cell_type": "code",
   "execution_count": null,
   "id": "92844d83-1669-489c-8791-6b3f97c67a40",
   "metadata": {},
   "outputs": [],
   "source": [
    "# Load time windows from different segments:\n",
    "wdw_pp = 40 # Number of points for time windows (dt=0.1s)\n",
    "t_wdws = [] # Initiate list for all segments\n",
    "norm_aux = 0 # Initiate auxiliar value for normalization.\n",
    "for i_segm in [0,1,2,3,4]:\n",
    "    t_wdws.append(Time_Wdw(wdw_pp, f'segm{i_segm+1}', \n",
    "                              gr_tr= 'zTrue_m' in df_all[i_segm].columns)) # Initiate object\n",
    "    t_wdws[-1].store_orig_data(df_all[i_segm]) # Store original data \n",
    "    #t_wdws[-1].window_data() # Window data without any augmentation\n",
    "    norm_aux = np.max([norm_aux,np.max(t_wdws[-1].B_RF1)])\n",
    "# Set normalizing value for future reference [nT]\n",
    "for t_wdw in t_wdws:\n",
    "    t_wdw.norm_value = norm_aux/np.sqrt(3) \n",
    "# Separate into training and testing datasets:\n",
    "t_wdws_train = [t_wdws[0],t_wdws[1],t_wdws[2]]\n",
    "t_wdws_test = [t_wdws[3],t_wdws[4]] # These ones have ground truth\n",
    "# Print summary:\n",
    "print('Time window points:',wdw_pp)\n",
    "print('\\n','-'*20,' Training ','-'*20,'\\n')\n",
    "summarize_TW_segments(t_wdws_train)\n",
    "print('\\n','-'*20,' Testing ','-'*20,'\\n')\n",
    "summarize_TW_segments(t_wdws_test)"
   ]
  },
  {
   "cell_type": "markdown",
   "id": "75d19c8d-f13a-4866-8264-78b17b3b00ce",
   "metadata": {},
   "source": [
    "### Stage 5: Fine architecture\n",
    "\n",
    "This stage focuses on the ML model's fine architecture: number of CNN filters, flattening mode and dropout fraction. From Stages 3-4 analysis, I've chosen the following model and hyper-parameters:\n",
    "\n",
    "* Convolutional layers: [32,16] + [32,4]\n",
    "* Pooling layers: None\n",
    "* 1D-Conversion layer: Flattening\n",
    "* Dense layers: [1024] + [512]\n",
    "* Optimizer: adam.\n",
    "* Activation function: tanh.\n",
    "* Learning rate: 5e-4.\n",
    "\n",
    "**Tunable Hyper-parameters**:\n",
    "* CNN filters = [[16,16], [32,16], [16,32], [32,32], [64,32], [32,64]]\n",
    "* Dropout_Fraction = [0, 0.1, 0.2, 0.3]\n",
    "\n",
    "Again, different architectures and rotational frames will be used for every hyperparameters option.\n",
    "\n",
    "**Rotational Frames**:\n",
    "* RF1: Original laboratory frame (\"Easy\"). Here Bx has a very clear correlation with the elevator z-position.\n",
    "* RF2: \"Hard\", noise is roughly equally distributed among all magnetic components.\n",
    "* RF3: \"Intermediate\" situation."
   ]
  },
  {
   "cell_type": "code",
   "execution_count": null,
   "id": "cc2159a2-4c0a-4865-ab42-0e56fef827ae",
   "metadata": {},
   "outputs": [],
   "source": [
    "%run Auxiliar_functions.ipynb\n",
    "savefigs_path = './Images/Training_models/Stage5/'\n",
    "results_path = './Results/'\n",
    "# General hyper-parameters and accuracy criteria:\n",
    "gen_hyp = {\n",
    "    \"Loss_Function\": \"mae\",\n",
    "    \"Last_Activation_Function\": 'linear',\n",
    "    \"Batch_Size\": 512,\n",
    "    \"Epochs\": 200, \n",
    "    \"Training_p_val\": 0.25,\n",
    "    \"Early_Stop_Monitor\": \"val_loss\",\n",
    "    \"Early_Stop_Min_Delta\": 0, # Improvement criteria for early stop, in [m]\n",
    "    \"Early_Stop_Patience\": 15,\n",
    "    \"Early_Stop_Start_From_Epoch\":30,\n",
    "    \"Early_Stop_Restore_Best_Weights\": True,    \n",
    "    \"z_thres\": 1, # in [m]\n",
    "    \"Magnetic_Components\": ['Bx','By','Bz'],\n",
    "    \"Time_Window_pp\": wdw_pp,\n",
    "    \"Convolutional_Network\": True,\n",
    "    \"Pool_Layers\": [None,None],\n",
    "    \"Dens_Layers\": [1024,512],\n",
    "    \"Flatten_Average\": True,\n",
    "    \"Activation_Function\": 'tanh',\n",
    "    \"Optimizer\": 'adam',\n",
    "    \"Learning_Rate\": 5e-4,\n",
    "    \"Model_Name\": \"S5_C16C4_NP_Flat_D1024D512\",\n",
    "    \"RF\": [RFs[\"RF1\"],RFs[\"RF2\"],RFs[\"RF3\"]],\n",
    "}"
   ]
  },
  {
   "cell_type": "code",
   "execution_count": null,
   "id": "705470bd-0e64-449e-8c90-01bb77cca321",
   "metadata": {},
   "outputs": [],
   "source": [
    "# Options for hyper-parameters:\n",
    "filter_opts = [[[16,16],[16,4]],[[32,16],[16,4]],[[16,16],[32,4]],\n",
    "              [[32,16],[32,4]],[[64,16],[32,4]],[[32,16],[64,4]],\n",
    "              [[64,16],[64,4]]]\n",
    "drop_opts = [0, 0.1, 0.2, 0.3]\n",
    "\n",
    "# Options for rotational frames:\n",
    "RF_opts = [RFs['RF1'],RFs['RF2'],RFs['RF3']]\n",
    "\n",
    "# Options for random initialization seeds:\n",
    "seed_opts = [0] # Seeds for training instances\n",
    "\n",
    "# Train all models:\n",
    "check_rep_model = './Results/Train_s1s2s3_Test_s4s5/Stage5_all_Train_s1s2s3_Test_s4s5.csv'\n",
    "pd_results = train_stage5(gen_hyp,filter_opts,drop_opts,\n",
    "                          seed_opts,RF_opts,t_wdws_train,t_wdws_test,\n",
    "                          results_path=results_path,\n",
    "                          check_rep_model=check_rep_model,\n",
    "                          quick_timing_test=False)"
   ]
  },
  {
   "cell_type": "code",
   "execution_count": null,
   "id": "7417a3d5-abbf-4c1c-a18f-120e1f68bde1",
   "metadata": {},
   "outputs": [],
   "source": []
  }
 ],
 "metadata": {
  "kernelspec": {
   "display_name": "py10",
   "language": "python",
   "name": "py10"
  },
  "language_info": {
   "codemirror_mode": {
    "name": "ipython",
    "version": 3
   },
   "file_extension": ".py",
   "mimetype": "text/x-python",
   "name": "python",
   "nbconvert_exporter": "python",
   "pygments_lexer": "ipython3",
   "version": "3.10.13"
  }
 },
 "nbformat": 4,
 "nbformat_minor": 5
}
